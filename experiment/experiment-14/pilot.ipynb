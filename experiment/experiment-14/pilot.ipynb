{
 "cells": [
  {
   "cell_type": "code",
   "execution_count": 1,
   "id": "4a63c2e3-6ab7-4dcd-aa94-96572afb29f6",
   "metadata": {},
   "outputs": [],
   "source": [
    "# Imports\n",
    "import torch\n",
    "import torch.nn as nn\n",
    "import torch.optim as optim\n",
    "import torch.nn.functional as F\n",
    "from torch.utils.data import Dataset\n",
    "\n",
    "from torchvision import datasets, transforms\n",
    "from torch.utils.data import DataLoader\n",
    "\n",
    "from snntorch import utils\n",
    "\n",
    "import numpy as np\n",
    "import matplotlib.pyplot as plt\n",
    "\n",
    "from generate_noised_dataset import generate_one_noisy_image"
   ]
  },
  {
   "cell_type": "code",
   "execution_count": 2,
   "id": "b716d05a-3dab-40ad-be4d-124c29993072",
   "metadata": {},
   "outputs": [],
   "source": [
    "sys_root = '/home/hwkang/jupyter/root/dataset'"
   ]
  },
  {
   "cell_type": "code",
   "execution_count": 3,
   "id": "fa45f20c-ee32-4a54-8a9b-be59fbd2feec",
   "metadata": {},
   "outputs": [],
   "source": [
    "transform = transforms.Compose([\n",
    "    transforms.ToTensor()\n",
    "])\n",
    "\n",
    "train_dataset = datasets.MNIST(root=sys_root, train=True, download=True, transform=transform)\n",
    "test_dataset = datasets.MNIST(root=sys_root, train=False, download=True, transform=transform)"
   ]
  },
  {
   "cell_type": "code",
   "execution_count": 4,
   "id": "516b78e7-9b4a-4f43-893b-4498a4120a36",
   "metadata": {},
   "outputs": [
    {
     "name": "stdout",
     "output_type": "stream",
     "text": [
      "10\n"
     ]
    }
   ],
   "source": [
    "train_dataset = utils.data_subset(train_dataset, 6000)\n",
    "print(len(train_dataset))"
   ]
  },
  {
   "cell_type": "code",
   "execution_count": 5,
   "id": "27227783-5205-45b5-a26e-994446f8b0d8",
   "metadata": {},
   "outputs": [],
   "source": [
    "train_loader = DataLoader(dataset=train_dataset, batch_size=1, shuffle=False)\n",
    "test_loader = DataLoader(dataset=test_dataset, batch_size=1, shuffle=False)"
   ]
  },
  {
   "cell_type": "code",
   "execution_count": 6,
   "id": "0c200b0b-54ba-47d7-99e8-b1b8f2f216eb",
   "metadata": {},
   "outputs": [],
   "source": [
    "class NoisedDataset(Dataset):\n",
    "    def __init__(self, data_loader, noise_type='gaussian'):\n",
    "        self.x = []\n",
    "        self.y = []\n",
    "        for image, label in data_loader:\n",
    "            image = image.squeeze(0)\n",
    "            if( np.random.rand() >= 0.5 ):\n",
    "                self.x.append( generate_one_noisy_image(image, intensity=np.random.rand(), noise_type=noise_type) )\n",
    "                self.y.append( 1 )\n",
    "            else:\n",
    "                self.x.append( image )\n",
    "                self.y.append( 0 )\n",
    "\n",
    "    def __len__(self):\n",
    "        return len(self.x)\n",
    "\n",
    "    def __getitem__(self, idx):\n",
    "        x_data = self.x[idx]\n",
    "        y_data = self.y[idx]\n",
    "        return x_data, y_data"
   ]
  },
  {
   "cell_type": "code",
   "execution_count": 7,
   "id": "4e4ad827-4f56-4282-923c-c5c63f1b0c0e",
   "metadata": {},
   "outputs": [],
   "source": [
    "noised_train_dataset = NoisedDataset(train_loader)\n",
    "noised_test_dataset = NoisedDataset(test_loader)\n",
    "\n",
    "noised_gaussian = NoisedDataset(train_loader)\n",
    "noised_snp = NoisedDataset(train_loader, 'snp')\n",
    "noised_uniform = NoisedDataset(train_loader, 'uniform')\n",
    "noised_poisson = NoisedDataset(train_loader, 'poisson')"
   ]
  },
  {
   "cell_type": "code",
   "execution_count": 8,
   "id": "344ba3be-929f-4026-935a-e0c161c43747",
   "metadata": {},
   "outputs": [],
   "source": [
    "#train_loader = DataLoader(noised_train_dataset, batch_size=128, shuffle=True)\n",
    "#test_loader = DataLoader(noised_test_dataset, batch_size=128, shuffle=False)\n",
    "\n",
    "gaussian_loader = DataLoader(noised_gaussian, batch_size=1, shuffle=False)\n",
    "snp_loader = DataLoader(noised_snp, batch_size=1, shuffle=False)\n",
    "uniform_loader = DataLoader(noised_uniform, batch_size=1, shuffle=False)\n",
    "poisson_loader = DataLoader(noised_poisson, batch_size=1, shuffle=False)"
   ]
  },
  {
   "cell_type": "code",
   "execution_count": null,
   "id": "6c02aba7-be96-4384-9f30-e9dc495a5b1c",
   "metadata": {},
   "outputs": [],
   "source": [
    "# Sanity check"
   ]
  },
  {
   "cell_type": "code",
   "execution_count": 11,
   "id": "adb7511a-5317-4131-8502-d2d2f24c804a",
   "metadata": {},
   "outputs": [],
   "source": [
    "gaussian_images = [(x.squeeze(0), y) for x, y in gaussian_loader]\n",
    "snp_images = [(x.squeeze(0), y) for x, y in snp_loader]\n",
    "uniform_images = [(x.squeeze(0), y) for x, y in uniform_loader]\n",
    "poisson_images = [(x.squeeze(0), y) for x, y in poisson_loader]"
   ]
  },
  {
   "cell_type": "code",
   "execution_count": 12,
   "id": "8984f9be-8d30-4b00-9df0-b8afe5c3077b",
   "metadata": {},
   "outputs": [
    {
     "name": "stdout",
     "output_type": "stream",
     "text": [
      "torch.Size([1, 28, 28]) tensor([1])\n"
     ]
    }
   ],
   "source": [
    "print(gaussian_images[0][0].shape, gaussian_images[0][1])"
   ]
  },
  {
   "cell_type": "code",
   "execution_count": null,
   "id": "4f1da701-74ae-48c0-85b8-4df72f734763",
   "metadata": {},
   "outputs": [],
   "source": [
    "fig, axes = plt.subplots(5, 2, figsize=(6, 12))\n",
    "\n",
    "for i, ax in enumerate(axes.flat):\n",
    "    ax.imshow(gaussian_images[i][0].permute(1,2,0), cmap='gray')\n",
    "    ax.axis('off')\n",
    "    ax.set_title(f'Image[{i+1}] y:{gaussian_images[i][1]}')\n",
    "\n",
    "print()"
   ]
  },
  {
   "cell_type": "code",
   "execution_count": null,
   "id": "0585108a-2ad5-4ed2-9bec-08a86ff44893",
   "metadata": {},
   "outputs": [],
   "source": [
    "fig, axes = plt.subplots(5, 2, figsize=(6, 12))\n",
    "\n",
    "for i, ax in enumerate(axes.flat):\n",
    "    ax.imshow(snp_images[i][0].permute(1,2,0), cmap='gray')\n",
    "    ax.axis('off')\n",
    "    ax.set_title(f'Image[{i+1}] y:{snp_images[i][1]}')\n",
    "\n",
    "print()"
   ]
  },
  {
   "cell_type": "code",
   "execution_count": null,
   "id": "64f56f1a-76c9-45c8-8515-a8387b7101bc",
   "metadata": {},
   "outputs": [],
   "source": [
    "fig, axes = plt.subplots(5, 2, figsize=(6, 12))\n",
    "\n",
    "for i, ax in enumerate(axes.flat):\n",
    "    ax.imshow(uniform_images[i][0].permute(1,2,0), cmap='gray')\n",
    "    ax.axis('off')\n",
    "    ax.set_title(f'Image[{i+1}] y:{uniform_images[i][1]}')\n",
    "\n",
    "print()"
   ]
  },
  {
   "cell_type": "code",
   "execution_count": null,
   "id": "778f668c-43f2-448b-a03d-5eb13b72bb27",
   "metadata": {},
   "outputs": [],
   "source": [
    "fig, axes = plt.subplots(5, 2, figsize=(6, 12))\n",
    "\n",
    "for i, ax in enumerate(axes.flat):\n",
    "    ax.imshow(poisson_images[i][0].permute(1,2,0), cmap='gray')\n",
    "    ax.axis('off')\n",
    "    ax.set_title(f'Image[{i+1}] y:{poisson_images[i][1]}')\n",
    "\n",
    "print()"
   ]
  },
  {
   "cell_type": "code",
   "execution_count": 17,
   "id": "8d761249-79cf-446b-ae31-677dc0b52aed",
   "metadata": {},
   "outputs": [],
   "source": [
    "class SimpleCNN(nn.Module):\n",
    "    def __init__(self):\n",
    "        super(SimpleCNN, self).__init__()\n",
    "        # 첫 번째 합성곱 레이어\n",
    "        self.conv1 = nn.Conv2d(in_channels=1, out_channels=16, kernel_size=3, padding=1)\n",
    "        self.pool = nn.MaxPool2d(kernel_size=2, stride=2, padding=0)\n",
    "        # 두 번째 합성곱 레이어\n",
    "        self.conv2 = nn.Conv2d(in_channels=16, out_channels=32, kernel_size=3, padding=1)\n",
    "        # 세 번째 합성곱 레이어\n",
    "        self.conv3 = nn.Conv2d(in_channels=32, out_channels=64, kernel_size=3, padding=1)\n",
    "        # 완전 연결 레이어\n",
    "        self.fc1 = nn.Linear(64 * 3 * 3, 128)\n",
    "        self.fc2 = nn.Linear(128, 1)\n",
    "    \n",
    "    def forward(self, x):\n",
    "        # 첫 번째 합성곱 + ReLU + 풀링\n",
    "        x = self.pool(F.relu(self.conv1(x)))\n",
    "        # 두 번째 합성곱 + ReLU + 풀링\n",
    "        x = self.pool(F.relu(self.conv2(x)))\n",
    "        # 세 번째 합성곱 + ReLU + 풀링\n",
    "        x = self.pool(F.relu(self.conv3(x)))\n",
    "        # 텐서를 평탄화\n",
    "        x = x.view(-1, 64 * 3 * 3)\n",
    "        # 완전 연결 레이어 + ReLU\n",
    "        x = F.relu(self.fc1(x))\n",
    "        # 출력 레이어 (이진 분류)\n",
    "        x = torch.sigmoid(self.fc2(x))\n",
    "        return x"
   ]
  },
  {
   "cell_type": "code",
   "execution_count": 18,
   "id": "cda02f96-6aba-4a16-8da7-b720486c3666",
   "metadata": {},
   "outputs": [],
   "source": [
    "device = torch.device('cuda' if torch.cuda.is_available() else 'cpu')\n",
    "model = SimpleCNN()\n",
    "model = model.to(device)\n",
    "criterion = nn.BCELoss()\n",
    "optimizer = optim.Adam(model.parameters(), lr=0.001)"
   ]
  },
  {
   "cell_type": "code",
   "execution_count": null,
   "id": "0d1ebe95-13c3-445d-bba3-21e352c287cd",
   "metadata": {},
   "outputs": [],
   "source": [
    "num_epochs = 50\n",
    "for epoch in range(num_epochs):\n",
    "    model.train()\n",
    "    running_loss = 0.0\n",
    "    for inputs, labels in train_loader:\n",
    "        # 이진 분류를 위해 라벨을 0 또는 1로 변경 (임시로)\n",
    "        labels = labels.float().unsqueeze(1)\n",
    "\n",
    "        inputs, labels = inputs.to(device), labels.to(device)\n",
    "        \n",
    "        # 옵티마이저 초기화\n",
    "        optimizer.zero_grad()\n",
    "        \n",
    "        # 순전파\n",
    "        outputs = model(inputs)\n",
    "        \n",
    "        # 손실 계산\n",
    "        loss = criterion(outputs, labels)\n",
    "        \n",
    "        # 역전파\n",
    "        loss.backward()\n",
    "        \n",
    "        # 옵티마이저 업데이트\n",
    "        optimizer.step()\n",
    "        \n",
    "        running_loss += loss.item() * inputs.size(0)\n",
    "    \n",
    "    epoch_loss = running_loss / len(train_loader.dataset)\n",
    "    if( epoch % 10 == 9 ):\n",
    "        print(f\"Epoch {epoch + 1}/{num_epochs}, Loss: {epoch_loss:.4f}\")"
   ]
  },
  {
   "cell_type": "code",
   "execution_count": null,
   "id": "6f64f2fe-310a-48fb-8d40-eef5db482f44",
   "metadata": {},
   "outputs": [],
   "source": [
    "# 모델 평가\n",
    "model.eval()\n",
    "correct = 0\n",
    "total = 0\n",
    "with torch.no_grad():\n",
    "    for inputs, labels in test_loader:\n",
    "        labels = labels.float().unsqueeze(1)  # 이진 분류를 위해 라벨을 0 또는 1로 변경 (임시로)\n",
    "        inputs, labels = inputs.to(device), labels.to(device)\n",
    "        outputs = model(inputs)\n",
    "        predicted = (outputs >= 0.5).float()\n",
    "        total += labels.size(0)\n",
    "        correct += (predicted == labels).sum().item()\n",
    "\n",
    "accuracy = 100 * correct / total\n",
    "print(f'Accuracy: {accuracy:.2f}%')"
   ]
  }
 ],
 "metadata": {
  "kernelspec": {
   "display_name": "Python 3 (ipykernel)",
   "language": "python",
   "name": "python3"
  },
  "language_info": {
   "codemirror_mode": {
    "name": "ipython",
    "version": 3
   },
   "file_extension": ".py",
   "mimetype": "text/x-python",
   "name": "python",
   "nbconvert_exporter": "python",
   "pygments_lexer": "ipython3",
   "version": "3.10.12"
  }
 },
 "nbformat": 4,
 "nbformat_minor": 5
}
