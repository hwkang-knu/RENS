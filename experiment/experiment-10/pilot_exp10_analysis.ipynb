{
 "cells": [
  {
   "cell_type": "code",
   "execution_count": null,
   "id": "db8e5b7f-e0c2-4c52-8a47-ce4913cc21ab",
   "metadata": {},
   "outputs": [],
   "source": [
    "import pandas as pd\n",
    "import os\n",
    "import matplotlib.pyplot as plt"
   ]
  },
  {
   "cell_type": "code",
   "execution_count": null,
   "id": "b9037fdf-3759-4583-b41f-20bf9d108364",
   "metadata": {},
   "outputs": [],
   "source": [
    "def list_files_in_directory(path):\n",
    "    files = [ f for f in os.listdir(path) if os.path.isfile(os.path.join(path, f)) ]\n",
    "    return files"
   ]
  },
  {
   "cell_type": "code",
   "execution_count": null,
   "id": "fe2949d7-eafb-4eee-aa7e-c669a97ecc25",
   "metadata": {},
   "outputs": [],
   "source": [
    "path_directory = '/home/hwkang/jupyter/root/result/exp10/perf'"
   ]
  },
  {
   "cell_type": "code",
   "execution_count": null,
   "id": "fdffbb50-309f-46fb-bce8-b001d545578b",
   "metadata": {},
   "outputs": [],
   "source": [
    "files_list = list_files_in_directory(path_directory)"
   ]
  },
  {
   "cell_type": "code",
   "execution_count": null,
   "id": "7ea1a861-e2d2-41e9-a960-8126b3fc4b74",
   "metadata": {},
   "outputs": [],
   "source": [
    "files_list.sort()"
   ]
  },
  {
   "cell_type": "code",
   "execution_count": null,
   "id": "86094ce7-205e-4327-a965-a04b1a56ba3a",
   "metadata": {},
   "outputs": [],
   "source": [
    "def remove_outliers(df, column):\n",
    "    Q1 = df[column].quantile(0.25)\n",
    "    Q3 = df[column].quantile(0.75)\n",
    "    IQR = Q3 - Q1\n",
    "    lower_bound = Q1 - 1.5 * IQR\n",
    "    upper_bound = Q3 + 1.5 * IQR\n",
    "    filtered_df = df[(df[column] >= lower_bound) & (df[column] <= upper_bound)]\n",
    "    return filtered_df"
   ]
  },
  {
   "cell_type": "code",
   "execution_count": null,
   "id": "98ac5e52-9e18-4a24-8968-ce40dca9caa1",
   "metadata": {},
   "outputs": [],
   "source": [
    "def show_boxplot(path_directory, files_list, file_index_start, target_column, title, show=True, save=False, save_path=None):\n",
    "    df_delta = pd.read_csv(os.path.join(path_directory, files_list[file_index_start+0]))\n",
    "    df_ttfs = pd.read_csv(os.path.join(path_directory, files_list[file_index_start+1]))\n",
    "    df_stime = pd.read_csv(os.path.join(path_directory, files_list[file_index_start+2]))\n",
    "    df_srate = pd.read_csv(os.path.join(path_directory, files_list[file_index_start+3]))\n",
    "\n",
    "    # 데이터프레임 목록과 이름\n",
    "    dataframes = {'Delta': df_delta, 'TTFS': df_ttfs, 'S. time': df_stime, 'S. rate': df_srate}\n",
    "\n",
    "    # 특정 열에 대한 박스 플롯\n",
    "    column_to_plot = target_column  # 박스 플롯으로 시각화할 열\n",
    "    filtered_dataframes = {name: remove_outliers(df, column_to_plot) for name, df in dataframes.items()}\n",
    "\n",
    "    # 박스 플롯을 위한 데이터 준비\n",
    "    data_to_plot = [df[column_to_plot] for df in filtered_dataframes.values()]\n",
    "\n",
    "    # 그래프 그리기\n",
    "    plt.figure(figsize=(6, 6))\n",
    "    plt.boxplot(data_to_plot, labels=filtered_dataframes.keys())\n",
    "\n",
    "    # 축과 레이블 추가\n",
    "    plt.xlabel('Encoding type')\n",
    "    if( target_column == 'duration' ):\n",
    "        plt.ylabel(column_to_plot+' (us)')\n",
    "    elif( target_column == 'pkg' ):\n",
    "        plt.ylabel('CPU energy consumption (uJ)')\n",
    "    else:\n",
    "        plt.ylabel('DRAM energy consumption (uJ)')\n",
    "    plt.title(title)\n",
    "    plt.grid(True)\n",
    "\n",
    "    if save:\n",
    "        plt.savefig(save_path)\n",
    "    \n",
    "    # 그래프 출력\n",
    "    if show:\n",
    "        plt.show()"
   ]
  },
  {
   "cell_type": "code",
   "execution_count": null,
   "id": "a5f47500-36dc-4757-bb5a-f78175d95a63",
   "metadata": {},
   "outputs": [],
   "source": [
    "save_paths = [\n",
    "    os.path.join(path_directory,'Input_1_[28x28-50-1000].png'),\n",
    "    os.path.join(path_directory,'Input_2_[32x32-50-1000].png'),\n",
    "    os.path.join(path_directory,'Input_3_[256x144-50-1000].png'),\n",
    "    os.path.join(path_directory,'Input_4_[640x480-50-1000].png'),\n",
    "    os.path.join(path_directory,'Step_1_[32x32-25-1000].png'),\n",
    "    os.path.join(path_directory,'Step_2_[32x32-50-1000].png'),\n",
    "    os.path.join(path_directory,'Step_3_[32x32-100-1000].png'),\n",
    "    os.path.join(path_directory,'Step_4_[32x32-1000-1000].png'),\n",
    "    os.path.join(path_directory,'Iter_1_[32x32-50-1000].png'),\n",
    "    os.path.join(path_directory,'Iter_2_[32x32-50-2000].png'),\n",
    "    os.path.join(path_directory,'Iter_3_[32x32-50-4000].png'),\n",
    "    os.path.join(path_directory,'Iter_4_[32x32-50-8000].png')\n",
    "]\n",
    "\n",
    "titles = [\n",
    "    '[Input_size, Num_step, Num_iter]: [28x28, 50, 1000]',\n",
    "    '[Input_size, Num_step, Num_iter]: [32x32, 50, 1000]',\n",
    "    '[Input_size, Num_step, Num_iter]: [256x144, 50, 1000]',\n",
    "    '[Input_size, Num_step, Num_iter]: [640x480, 50, 1000]',\n",
    "    '[Input_size, Num_step, Num_iter]: [32x32, 25, 1000]',\n",
    "    '[Input_size, Num_step, Num_iter]: [32x32, 50, 1000]',\n",
    "    '[Input_size, Num_step, Num_iter]: [32x32, 100, 1000]',\n",
    "    '[Input_size, Num_step, Num_iter]: [32x32, 1000, 1000]',\n",
    "    '[Input_size, Num_step, Num_iter]: [32x32, 50, 1000]',\n",
    "    '[Input_size, Num_step, Num_iter]: [32x32, 50, 2000]',\n",
    "    '[Input_size, Num_step, Num_iter]: [32x32, 50, 4000]',\n",
    "    '[Input_size, Num_step, Num_iter]: [32x32, 50, 8000]',\n",
    "]"
   ]
  },
  {
   "cell_type": "code",
   "execution_count": null,
   "id": "ffc692e5-bd13-49e5-8249-6c3ee431d9cb",
   "metadata": {},
   "outputs": [],
   "source": [
    "for i in range(12):\n",
    "    show_boxplot(path_directory, files_list, file_index_start=i*4, target_column='duration', title=titles[i], show=False, save=True, save_path=save_paths[i])"
   ]
  },
  {
   "cell_type": "code",
   "execution_count": null,
   "id": "26db54fb-5bef-409a-a362-e590c16894c4",
   "metadata": {},
   "outputs": [],
   "source": [
    "for i in range(12):\n",
    "    show_boxplot(path_directory, files_list, file_index_start=i*4, target_column='pkg', title=titles[i], show=False, save=True, save_path=save_paths[i])"
   ]
  },
  {
   "cell_type": "code",
   "execution_count": null,
   "id": "3885ec05-96b1-4e37-b971-fb5cf4ac8899",
   "metadata": {},
   "outputs": [],
   "source": [
    "for i in range(12):\n",
    "    show_boxplot(path_directory, files_list, file_index_start=i*4, target_column='dram', title=titles[i], show=False, save=True, save_path=save_paths[i])"
   ]
  }
 ],
 "metadata": {
  "kernelspec": {
   "display_name": "Python 3 (ipykernel)",
   "language": "python",
   "name": "python3"
  },
  "language_info": {
   "codemirror_mode": {
    "name": "ipython",
    "version": 3
   },
   "file_extension": ".py",
   "mimetype": "text/x-python",
   "name": "python",
   "nbconvert_exporter": "python",
   "pygments_lexer": "ipython3",
   "version": "3.10.12"
  }
 },
 "nbformat": 4,
 "nbformat_minor": 5
}
